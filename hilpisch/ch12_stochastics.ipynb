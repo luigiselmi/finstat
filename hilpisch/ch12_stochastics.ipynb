{
 "cells": [
  {
   "cell_type": "markdown",
   "id": "88c88bce-f9e7-49f3-a766-717a61de1c28",
   "metadata": {},
   "source": [
    "# Ch.12 Stochastics"
   ]
  },
  {
   "cell_type": "code",
   "execution_count": 1,
   "id": "c1fb9e47-a670-4bbb-b4e4-1d4b8be8f18c",
   "metadata": {},
   "outputs": [
    {
     "name": "stdout",
     "output_type": "stream",
     "text": [
      "Matplotlib version: 3.8.4\n",
      "NumPy version: 1.26.4\n",
      "Pandas version: 2.2.2\n"
     ]
    }
   ],
   "source": [
    "import math\n",
    "import numpy as np  \n",
    "from numpy.polynomial import Polynomial\n",
    "from numpy.polynomial.polynomial import polyval\n",
    "import pandas as pd  \n",
    "from pylab import plt, mpl\n",
    "import warnings\n",
    "warnings.filterwarnings('ignore')\n",
    "print('Matplotlib version: {}'.format(mpl.__version__))\n",
    "print('NumPy version: {}'.format(np.__version__))\n",
    "print('Pandas version: {}'.format(pd.__version__))"
   ]
  },
  {
   "cell_type": "code",
   "execution_count": null,
   "id": "7944d524-edac-4bb7-96f9-31ba5d0a02fd",
   "metadata": {},
   "outputs": [],
   "source": []
  }
 ],
 "metadata": {
  "kernelspec": {
   "display_name": "Python 3 (ipykernel)",
   "language": "python",
   "name": "python3"
  },
  "language_info": {
   "codemirror_mode": {
    "name": "ipython",
    "version": 3
   },
   "file_extension": ".py",
   "mimetype": "text/x-python",
   "name": "python",
   "nbconvert_exporter": "python",
   "pygments_lexer": "ipython3",
   "version": "3.12.5"
  }
 },
 "nbformat": 4,
 "nbformat_minor": 5
}
