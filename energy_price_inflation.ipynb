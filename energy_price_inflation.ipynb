{
 "cells": [
  {
   "cell_type": "markdown",
   "id": "7047c27e-8e53-4a50-88f1-cd0644a8f292",
   "metadata": {},
   "source": [
    "# VAR Model: energy prices and inflation\n",
    "We assume a relationship between the energy prices and inflation. We model such relationship in order to predict a variation of inflation from a variation of the energy prices. We use the prices of natural gas and the inflation for Italy from January 2016 to December 2023. For the energy price we use the data for the natural gas from the International Monetary Fund (IMF). From the [IMF website](https://data.imf.org/?sk=471dddf8-d8a7-499a-81ba-5b332c01f8b9) we select the Natural Gas Netherlands TFF dataset as the commodity in US dollars. For the inflation we use the general index for Italy from [ISTAT](http://dati.istat.it/). Since the energy prices can affect the inflation and, vice versa, the inflation can affect the energy prices, we use the vector autoregressive (VAR) model to represent the processes and their interaction. The VAR model is an extension of the autoregressive model AR(p). "
   ]
  },
  {
   "cell_type": "code",
   "execution_count": 1,
   "id": "17cb9930-9e06-4b78-800e-e52a977b3978",
   "metadata": {},
   "outputs": [
    {
     "name": "stdout",
     "output_type": "stream",
     "text": [
      "Python version: 3.11.5\n",
      "NumPy version: 1.25.2\n",
      "Pandas version: 2.1.1\n",
      "GDAL version: 3.7.2\n",
      "GeoPandas version: 0.14.0\n"
     ]
    }
   ],
   "source": [
    "import pandas as pd\n",
    "import numpy as np\n",
    "import math\n",
    "import matplotlib.pyplot as plt\n",
    "from matplotlib import dates\n",
    "import matplotlib.dates as mdates\n",
    "from statsmodels.tsa.statespace.sarimax import SARIMAX\n",
    "from statsmodels.tsa.arima_process import ArmaProcess\n",
    "from statsmodels.graphics.tsaplots import plot_acf\n",
    "from statsmodels.tsa.stattools import adfuller\n",
    "from osgeo import gdal, osr, ogr\n",
    "import geopandas as gpd\n",
    "from shapely.geometry import Point\n",
    "import warnings\n",
    "warnings.filterwarnings('ignore')\n",
    "from platform import python_version\n",
    "print(\"Python version: %s\"%python_version())\n",
    "print(\"NumPy version: %s\"%np.__version__)\n",
    "print(\"Pandas version: %s\"%pd.__version__)\n",
    "print('GDAL version: %s'%gdal.__version__)\n",
    "print(\"GeoPandas version: %s\"%gpd.__version__)"
   ]
  },
  {
   "cell_type": "markdown",
   "id": "f175bc5e-ef8d-4cc9-bff2-0e390537d9be",
   "metadata": {},
   "source": [
    "## Natural Gas - Netherlands TFF"
   ]
  },
  {
   "cell_type": "code",
   "execution_count": 2,
   "id": "9352bf9e-1974-468a-9d0a-b87ae24353a0",
   "metadata": {},
   "outputs": [
    {
     "data": {
      "text/html": [
       "<div>\n",
       "<style scoped>\n",
       "    .dataframe tbody tr th:only-of-type {\n",
       "        vertical-align: middle;\n",
       "    }\n",
       "\n",
       "    .dataframe tbody tr th {\n",
       "        vertical-align: top;\n",
       "    }\n",
       "\n",
       "    .dataframe thead th {\n",
       "        text-align: right;\n",
       "    }\n",
       "</style>\n",
       "<table border=\"1\" class=\"dataframe\">\n",
       "  <thead>\n",
       "    <tr style=\"text-align: right;\">\n",
       "      <th></th>\n",
       "      <th>Country Name</th>\n",
       "      <th>Country Code</th>\n",
       "      <th>Commodity Name</th>\n",
       "      <th>Commodity Code</th>\n",
       "      <th>Unit Name</th>\n",
       "      <th>Unit Code</th>\n",
       "      <th>Attribute</th>\n",
       "      <th>2015M1</th>\n",
       "      <th>2015M2</th>\n",
       "      <th>2015M3</th>\n",
       "      <th>...</th>\n",
       "      <th>2023M4</th>\n",
       "      <th>2023M5</th>\n",
       "      <th>2023M6</th>\n",
       "      <th>2023M7</th>\n",
       "      <th>2023M8</th>\n",
       "      <th>2023M9</th>\n",
       "      <th>2023M10</th>\n",
       "      <th>2023M11</th>\n",
       "      <th>2023M12</th>\n",
       "      <th>Unnamed: 115</th>\n",
       "    </tr>\n",
       "  </thead>\n",
       "  <tbody>\n",
       "    <tr>\n",
       "      <th>0</th>\n",
       "      <td>World</td>\n",
       "      <td>1</td>\n",
       "      <td>Industrial Materials index</td>\n",
       "      <td>PINDU</td>\n",
       "      <td>Index</td>\n",
       "      <td>IX</td>\n",
       "      <td>Value</td>\n",
       "      <td>115.697669</td>\n",
       "      <td>112.891399</td>\n",
       "      <td>110.187288</td>\n",
       "      <td>...</td>\n",
       "      <td>168.360791</td>\n",
       "      <td>156.684029</td>\n",
       "      <td>156.434364</td>\n",
       "      <td>157.406576</td>\n",
       "      <td>154.700611</td>\n",
       "      <td>159.823049</td>\n",
       "      <td>157.575786</td>\n",
       "      <td>163.444974</td>\n",
       "      <td>165.612251</td>\n",
       "      <td>NaN</td>\n",
       "    </tr>\n",
       "    <tr>\n",
       "      <th>1</th>\n",
       "      <td>World</td>\n",
       "      <td>1</td>\n",
       "      <td>Non-Fuel index</td>\n",
       "      <td>PNFUEL</td>\n",
       "      <td>Index</td>\n",
       "      <td>IX</td>\n",
       "      <td>Value</td>\n",
       "      <td>108.401507</td>\n",
       "      <td>105.827424</td>\n",
       "      <td>102.837085</td>\n",
       "      <td>...</td>\n",
       "      <td>155.829121</td>\n",
       "      <td>148.774443</td>\n",
       "      <td>145.943374</td>\n",
       "      <td>146.109110</td>\n",
       "      <td>142.639895</td>\n",
       "      <td>143.647360</td>\n",
       "      <td>143.546099</td>\n",
       "      <td>148.093495</td>\n",
       "      <td>148.636510</td>\n",
       "      <td>NaN</td>\n",
       "    </tr>\n",
       "  </tbody>\n",
       "</table>\n",
       "<p>2 rows × 116 columns</p>\n",
       "</div>"
      ],
      "text/plain": [
       "  Country Name  Country Code               Commodity Name Commodity Code  \\\n",
       "0        World             1  Industrial Materials index           PINDU   \n",
       "1        World             1              Non-Fuel index          PNFUEL   \n",
       "\n",
       "  Unit Name Unit Code Attribute      2015M1      2015M2      2015M3  ...  \\\n",
       "0     Index        IX     Value  115.697669  112.891399  110.187288  ...   \n",
       "1     Index        IX     Value  108.401507  105.827424  102.837085  ...   \n",
       "\n",
       "       2023M4      2023M5      2023M6      2023M7      2023M8      2023M9  \\\n",
       "0  168.360791  156.684029  156.434364  157.406576  154.700611  159.823049   \n",
       "1  155.829121  148.774443  145.943374  146.109110  142.639895  143.647360   \n",
       "\n",
       "      2023M10     2023M11     2023M12  Unnamed: 115  \n",
       "0  157.575786  163.444974  165.612251           NaN  \n",
       "1  143.546099  148.093495  148.636510           NaN  \n",
       "\n",
       "[2 rows x 116 columns]"
      ]
     },
     "execution_count": 2,
     "metadata": {},
     "output_type": "execute_result"
    }
   ],
   "source": [
    "imf_commodities_path = 'data/imf_commodities.csv'\n",
    "imf_commodities_tmp = pd.read_csv(imf_commodities_path)\n",
    "imf_commodities_tmp.head(2)"
   ]
  },
  {
   "cell_type": "code",
   "execution_count": 58,
   "id": "2e9757f1-075c-404f-b5ab-41ed2c285034",
   "metadata": {},
   "outputs": [],
   "source": [
    "natural_gas_tmp = imf_commodities_tmp[(imf_commodities_tmp['Commodity Code'] == 'PNGAS') & (imf_commodities_tmp['Unit Code'] == 'IX')]\n",
    "nat_gas_values = natural_gas_tmp.loc[natural_gas_tmp.index, '2016M1':'2023M12'].values[0]"
   ]
  },
  {
   "cell_type": "code",
   "execution_count": 59,
   "id": "cce45edb-349b-401c-9b53-cde2c9a2fef6",
   "metadata": {},
   "outputs": [],
   "source": [
    "month_index = pd.date_range('2016-01-01', '2024-01-01', freq='M')"
   ]
  },
  {
   "cell_type": "code",
   "execution_count": 60,
   "id": "c285a7a4-a262-42f1-8e44-ec6856a86d52",
   "metadata": {},
   "outputs": [
    {
     "data": {
      "text/plain": [
       "96"
      ]
     },
     "execution_count": 60,
     "metadata": {},
     "output_type": "execute_result"
    }
   ],
   "source": [
    "len(month_index)"
   ]
  },
  {
   "cell_type": "code",
   "execution_count": 61,
   "id": "c497c977-34a4-401d-8d1d-e4a034e97beb",
   "metadata": {},
   "outputs": [
    {
     "data": {
      "text/html": [
       "<div>\n",
       "<style scoped>\n",
       "    .dataframe tbody tr th:only-of-type {\n",
       "        vertical-align: middle;\n",
       "    }\n",
       "\n",
       "    .dataframe tbody tr th {\n",
       "        vertical-align: top;\n",
       "    }\n",
       "\n",
       "    .dataframe thead th {\n",
       "        text-align: right;\n",
       "    }\n",
       "</style>\n",
       "<table border=\"1\" class=\"dataframe\">\n",
       "  <thead>\n",
       "    <tr style=\"text-align: right;\">\n",
       "      <th></th>\n",
       "      <th>Price</th>\n",
       "    </tr>\n",
       "  </thead>\n",
       "  <tbody>\n",
       "    <tr>\n",
       "      <th>2023-11-30</th>\n",
       "      <td>213.975925</td>\n",
       "    </tr>\n",
       "    <tr>\n",
       "      <th>2023-12-31</th>\n",
       "      <td>178.077808</td>\n",
       "    </tr>\n",
       "  </tbody>\n",
       "</table>\n",
       "</div>"
      ],
      "text/plain": [
       "                 Price\n",
       "2023-11-30  213.975925\n",
       "2023-12-31  178.077808"
      ]
     },
     "execution_count": 61,
     "metadata": {},
     "output_type": "execute_result"
    }
   ],
   "source": [
    "nat_gas_df = pd.DataFrame({'Price': nat_gas_values}, index=month_index)\n",
    "nat_gas_df.tail(2)"
   ]
  },
  {
   "cell_type": "code",
   "execution_count": 62,
   "id": "2bb777db-5c7c-42ea-9d4f-8c3652b16d1f",
   "metadata": {},
   "outputs": [
    {
     "data": {
      "text/plain": [
       "<matplotlib.legend.Legend at 0x260acda7050>"
      ]
     },
     "execution_count": 62,
     "metadata": {},
     "output_type": "execute_result"
    },
    {
     "data": {
      "image/png": "[encoded data removed]",
      "text/plain": [
       "<Figure size 1000x500 with 1 Axes>"
      ]
     },
     "metadata": {},
     "output_type": "display_data"
    }
   ],
   "source": [
    "fig, ax = plt.subplots(figsize=(10, 5))\n",
    "ax.set_title(\"Natural gas index\")\n",
    "ax.set_xlabel(\"Year\")\n",
    "ax.set_ylabel(\"Index per Million Metric British Thermal Unit\");\n",
    "ax.set_xticks(month_index)\n",
    "#ax.set_xticklabels(month_index, rotation=70)\n",
    "#ax.set_yticks(np.arange(0, 60, 2), minor=True)\n",
    "ax.xaxis.set_major_formatter(mdates.DateFormatter('%Y'))\n",
    "ax.xaxis.set_major_locator(dates.MonthLocator(12))\n",
    "ax.grid(True)\n",
    "ax.plot(nat_gas_df['2020':'2023'], label='Natural Gas', color='orange')\n",
    "plt.legend(loc='upper left')"
   ]
  },
  {
   "cell_type": "markdown",
   "id": "d2358e37-6db7-4b09-b569-869852a9d240",
   "metadata": {},
   "source": [
    "## Inflation"
   ]
  },
  {
   "cell_type": "code",
   "execution_count": 76,
   "id": "bba4dcf3-7d66-4bab-b0e0-9259003d5af9",
   "metadata": {},
   "outputs": [
    {
     "data": {
      "text/html": [
       "<div>\n",
       "<style scoped>\n",
       "    .dataframe tbody tr th:only-of-type {\n",
       "        vertical-align: middle;\n",
       "    }\n",
       "\n",
       "    .dataframe tbody tr th {\n",
       "        vertical-align: top;\n",
       "    }\n",
       "\n",
       "    .dataframe thead th {\n",
       "        text-align: right;\n",
       "    }\n",
       "</style>\n",
       "<table border=\"1\" class=\"dataframe\">\n",
       "  <thead>\n",
       "    <tr style=\"text-align: right;\">\n",
       "      <th></th>\n",
       "      <th>TIME</th>\n",
       "      <th>Value</th>\n",
       "    </tr>\n",
       "  </thead>\n",
       "  <tbody>\n",
       "    <tr>\n",
       "      <th>0</th>\n",
       "      <td>2016-01</td>\n",
       "      <td>99.6</td>\n",
       "    </tr>\n",
       "    <tr>\n",
       "      <th>1</th>\n",
       "      <td>2016-02</td>\n",
       "      <td>99.4</td>\n",
       "    </tr>\n",
       "  </tbody>\n",
       "</table>\n",
       "</div>"
      ],
      "text/plain": [
       "      TIME  Value\n",
       "0  2016-01   99.6\n",
       "1  2016-02   99.4"
      ]
     },
     "execution_count": 76,
     "metadata": {},
     "output_type": "execute_result"
    }
   ],
   "source": [
    "inflation_italy_path = 'data/istat_indice_prezzi_al_consumo_nic.csv'\n",
    "inflation_italy_tmp = pd.read_csv(inflation_italy_path, usecols=['TIME', 'Value', 'Misura'])\n",
    "inflation_italy_num_indici = inflation_italy_tmp[inflation_italy_tmp['Misura'] == 'numeri indici'][['TIME', 'Value']]\n",
    "inflation_italy_num_indici.head(2)"
   ]
  },
  {
   "cell_type": "code",
   "execution_count": 81,
   "id": "d84b596d-8d14-4929-882b-ec301e612d79",
   "metadata": {},
   "outputs": [
    {
     "data": {
      "text/html": [
       "<div>\n",
       "<style scoped>\n",
       "    .dataframe tbody tr th:only-of-type {\n",
       "        vertical-align: middle;\n",
       "    }\n",
       "\n",
       "    .dataframe tbody tr th {\n",
       "        vertical-align: top;\n",
       "    }\n",
       "\n",
       "    .dataframe thead th {\n",
       "        text-align: right;\n",
       "    }\n",
       "</style>\n",
       "<table border=\"1\" class=\"dataframe\">\n",
       "  <thead>\n",
       "    <tr style=\"text-align: right;\">\n",
       "      <th></th>\n",
       "      <th>Index</th>\n",
       "    </tr>\n",
       "  </thead>\n",
       "  <tbody>\n",
       "    <tr>\n",
       "      <th>2016-01-31</th>\n",
       "      <td>99.6</td>\n",
       "    </tr>\n",
       "    <tr>\n",
       "      <th>2016-02-29</th>\n",
       "      <td>99.4</td>\n",
       "    </tr>\n",
       "  </tbody>\n",
       "</table>\n",
       "</div>"
      ],
      "text/plain": [
       "            Index\n",
       "2016-01-31   99.6\n",
       "2016-02-29   99.4"
      ]
     },
     "execution_count": 81,
     "metadata": {},
     "output_type": "execute_result"
    }
   ],
   "source": [
    "inflation_df = pd.DataFrame({'Index': inflation_italy_num_indici['Value'].to_list()}, index=month_index)\n",
    "inflation_df.head(2)"
   ]
  },
  {
   "cell_type": "code",
   "execution_count": 89,
   "id": "cdb8376a-933a-4141-a653-5aaf462f8c2d",
   "metadata": {},
   "outputs": [
    {
     "data": {
      "image/png": "[encoded data removed]",
      "text/plain": [
       "<Figure size 1000x500 with 1 Axes>"
      ]
     },
     "metadata": {},
     "output_type": "display_data"
    }
   ],
   "source": [
    "fig, ax = plt.subplots(figsize=(10, 5))\n",
    "ax.set_title(\"Indice prezzi al consumo\")\n",
    "ax.set_xlabel(\"Year\")\n",
    "ax.set_ylabel(\"Index (2015=100)\");\n",
    "ax.set_xticks(month_index)\n",
    "#ax.set_xticklabels(month_index, rotation=70)\n",
    "#ax.set_yticks(np.arange(0, 60, 2), minor=True)\n",
    "ax.xaxis.set_major_formatter(mdates.DateFormatter('%Y'))\n",
    "ax.xaxis.set_major_locator(dates.MonthLocator(12))\n",
    "ax.grid(True)\n",
    "ax.plot(inflation_df, label='Inflation', color='green')\n",
    "plt.legend(loc='upper left')\n",
    "plt.savefig('inflation_italy_2016_2023')"
   ]
  },
  {
   "cell_type": "markdown",
   "id": "d45e12bf-afa0-4477-a096-af68adca2f0e",
   "metadata": {},
   "source": [
    "## The VAR model\n",
    "In an autoregressive process the output variable $y_t$ depends linearly on its previous values\n",
    "\n",
    "$$y_t = \\delta + \\phi_1 y_{t-1} + \\phi_2 y_{t-2} + .. + \\phi_p y_{t-p} + \\epsilon_t$$\n",
    "\n",
    "where $\\delta$ is a constant and $\\epsilon_t$ an error term. The index p represents the order of the autoregressive process AR(p), that is the number of previous values that are taken into account to predict the actual value of the output. For example, the output variable of an autoregressive process of order 1 is represented by\n",
    "\n",
    "$$y_t = \\delta + \\phi_1 y_{t-1} + \\epsilon_t$$\n",
    "\n",
    "We can represent a process of two variables with an AR model adding for each variable its dependency on the other. For a model of order 1, i.e. p=1, we can represent the system of two variables \n",
    "\n",
    "$$y_{1,t} = \\delta_1 + \\phi_{1, 1} y_{1, t-1} + + \\phi_{1, 2} y_{2, t-1} + \\epsilon_{1, t}$$\n",
    "$$y_{2,t} = \\delta_2 + \\phi_{2, 1} y_{1, t-1} + + \\phi_{2, 2} y_{2, t-1} + \\epsilon_{2, t}$$\n",
    "\n",
    "or in matrix form\n",
    "\n",
    "$$ \\left (  \\right )$$"
   ]
  },
  {
   "cell_type": "code",
   "execution_count": null,
   "id": "191b4303-953f-4f74-a0d6-fa0e75b62847",
   "metadata": {},
   "outputs": [],
   "source": []
  }
 ],
 "metadata": {
  "kernelspec": {
   "display_name": "Python 3 (ipykernel)",
   "language": "python",
   "name": "python3"
  },
  "language_info": {
   "codemirror_mode": {
    "name": "ipython",
    "version": 3
   },
   "file_extension": ".py",
   "mimetype": "text/x-python",
   "name": "python",
   "nbconvert_exporter": "python",
   "pygments_lexer": "ipython3",
   "version": "3.11.5"
  }
 },
 "nbformat": 4,
 "nbformat_minor": 5
}
