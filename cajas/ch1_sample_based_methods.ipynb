{
 "cells": [
  {
   "cell_type": "markdown",
   "id": "5576ff8b-d312-4bd9-85bc-b4a52547237b",
   "metadata": {},
   "source": [
    "# Chapter 1 - Sample Based Methods"
   ]
  },
  {
   "cell_type": "code",
   "execution_count": 1,
   "id": "e287d238-cf23-4492-a49b-85f8f4d2960d",
   "metadata": {},
   "outputs": [
    {
     "name": "stdout",
     "output_type": "stream",
     "text": [
      "YFinance version:  0.2.65\n"
     ]
    }
   ],
   "source": [
    "import numpy as np \n",
    "import pandas as pd \n",
    "import matplotlib.pyplot as plt \n",
    "import riskfolio as rp \n",
    "import yfinance as yf \n",
    "import warnings \n",
    "warnings.filterwarnings(\"ignore\") \n",
    "print('YFinance version: ', yf.version.version)"
   ]
  },
  {
   "cell_type": "code",
   "execution_count": 2,
   "id": "a8360216-b8de-4220-b294-ff2b97a6ae8a",
   "metadata": {},
   "outputs": [],
   "source": [
    "pd.options.display.float_format = '{:.4%}'.format \n",
    "# Date range \n",
    "start = '2019-01-01' \n",
    "end = '2023-12-30' \n",
    "# Tickers of assets \n",
    "assets = ['APA', 'BA', 'BAX', 'BMY', 'CMCSA', 'CNP', 'CPB', 'DE', 'HPQ', 'JCI'] \n",
    "assets.sort() "
   ]
  },
  {
   "cell_type": "code",
   "execution_count": 4,
   "id": "66786ccc-69ba-461c-a032-85386fda5132",
   "metadata": {},
   "outputs": [
    {
     "name": "stderr",
     "output_type": "stream",
     "text": [
      "[*********************100%***********************]  10 of 10 completed\n"
     ]
    }
   ],
   "source": [
    "# Downloading data \n",
    "data_path = '../data/cajas_sample.csv'\n",
    "prices = yf.download(assets, start=start, end=end, auto_adjust= False) \n",
    "prices.to_csv(data_path)"
   ]
  },
  {
   "cell_type": "code",
   "execution_count": 6,
   "id": "a3fc6514-27a9-42ef-b2c2-5794021b8821",
   "metadata": {},
   "outputs": [
    {
     "data": {
      "text/html": [
       "<div>\n",
       "<style scoped>\n",
       "    .dataframe tbody tr th:only-of-type {\n",
       "        vertical-align: middle;\n",
       "    }\n",
       "\n",
       "    .dataframe tbody tr th {\n",
       "        vertical-align: top;\n",
       "    }\n",
       "\n",
       "    .dataframe thead th {\n",
       "        text-align: right;\n",
       "    }\n",
       "</style>\n",
       "<table border=\"1\" class=\"dataframe\">\n",
       "  <thead>\n",
       "    <tr style=\"text-align: right;\">\n",
       "      <th></th>\n",
       "      <th>Price</th>\n",
       "      <th>Adj Close</th>\n",
       "      <th>Adj Close.1</th>\n",
       "      <th>Adj Close.2</th>\n",
       "      <th>Adj Close.3</th>\n",
       "      <th>Adj Close.4</th>\n",
       "      <th>Adj Close.5</th>\n",
       "      <th>Adj Close.6</th>\n",
       "      <th>Adj Close.7</th>\n",
       "      <th>Adj Close.8</th>\n",
       "      <th>...</th>\n",
       "      <th>Volume</th>\n",
       "      <th>Volume.1</th>\n",
       "      <th>Volume.2</th>\n",
       "      <th>Volume.3</th>\n",
       "      <th>Volume.4</th>\n",
       "      <th>Volume.5</th>\n",
       "      <th>Volume.6</th>\n",
       "      <th>Volume.7</th>\n",
       "      <th>Volume.8</th>\n",
       "      <th>Volume.9</th>\n",
       "    </tr>\n",
       "  </thead>\n",
       "  <tbody>\n",
       "    <tr>\n",
       "      <th>0</th>\n",
       "      <td>Ticker</td>\n",
       "      <td>APA</td>\n",
       "      <td>BA</td>\n",
       "      <td>BAX</td>\n",
       "      <td>BMY</td>\n",
       "      <td>CMCSA</td>\n",
       "      <td>CNP</td>\n",
       "      <td>CPB</td>\n",
       "      <td>DE</td>\n",
       "      <td>HPQ</td>\n",
       "      <td>...</td>\n",
       "      <td>APA</td>\n",
       "      <td>BA</td>\n",
       "      <td>BAX</td>\n",
       "      <td>BMY</td>\n",
       "      <td>CMCSA</td>\n",
       "      <td>CNP</td>\n",
       "      <td>CPB</td>\n",
       "      <td>DE</td>\n",
       "      <td>HPQ</td>\n",
       "      <td>JCI</td>\n",
       "    </tr>\n",
       "    <tr>\n",
       "      <th>1</th>\n",
       "      <td>Date</td>\n",
       "      <td>NaN</td>\n",
       "      <td>NaN</td>\n",
       "      <td>NaN</td>\n",
       "      <td>NaN</td>\n",
       "      <td>NaN</td>\n",
       "      <td>NaN</td>\n",
       "      <td>NaN</td>\n",
       "      <td>NaN</td>\n",
       "      <td>NaN</td>\n",
       "      <td>...</td>\n",
       "      <td>NaN</td>\n",
       "      <td>NaN</td>\n",
       "      <td>NaN</td>\n",
       "      <td>NaN</td>\n",
       "      <td>NaN</td>\n",
       "      <td>NaN</td>\n",
       "      <td>NaN</td>\n",
       "      <td>NaN</td>\n",
       "      <td>NaN</td>\n",
       "      <td>NaN</td>\n",
       "    </tr>\n",
       "    <tr>\n",
       "      <th>2</th>\n",
       "      <td>2019-01-02</td>\n",
       "      <td>22.800270080566406</td>\n",
       "      <td>314.6451416015625</td>\n",
       "      <td>57.84429931640625</td>\n",
       "      <td>41.02987289428711</td>\n",
       "      <td>29.111013412475586</td>\n",
       "      <td>22.98332405090332</td>\n",
       "      <td>25.800994873046875</td>\n",
       "      <td>134.85755920410156</td>\n",
       "      <td>16.58537483215332</td>\n",
       "      <td>...</td>\n",
       "      <td>4629400</td>\n",
       "      <td>3292200</td>\n",
       "      <td>4816900</td>\n",
       "      <td>8441300</td>\n",
       "      <td>16970400</td>\n",
       "      <td>4027300</td>\n",
       "      <td>3518900</td>\n",
       "      <td>1987700</td>\n",
       "      <td>9467400</td>\n",
       "      <td>5291900</td>\n",
       "    </tr>\n",
       "  </tbody>\n",
       "</table>\n",
       "<p>3 rows × 61 columns</p>\n",
       "</div>"
      ],
      "text/plain": [
       "        Price           Adj Close        Adj Close.1        Adj Close.2  \\\n",
       "0      Ticker                 APA                 BA                BAX   \n",
       "1        Date                 NaN                NaN                NaN   \n",
       "2  2019-01-02  22.800270080566406  314.6451416015625  57.84429931640625   \n",
       "\n",
       "         Adj Close.3         Adj Close.4        Adj Close.5  \\\n",
       "0                BMY               CMCSA                CNP   \n",
       "1                NaN                 NaN                NaN   \n",
       "2  41.02987289428711  29.111013412475586  22.98332405090332   \n",
       "\n",
       "          Adj Close.6         Adj Close.7        Adj Close.8  ...   Volume  \\\n",
       "0                 CPB                  DE                HPQ  ...      APA   \n",
       "1                 NaN                 NaN                NaN  ...      NaN   \n",
       "2  25.800994873046875  134.85755920410156  16.58537483215332  ...  4629400   \n",
       "\n",
       "  Volume.1 Volume.2 Volume.3  Volume.4 Volume.5 Volume.6 Volume.7 Volume.8  \\\n",
       "0       BA      BAX      BMY     CMCSA      CNP      CPB       DE      HPQ   \n",
       "1      NaN      NaN      NaN       NaN      NaN      NaN      NaN      NaN   \n",
       "2  3292200  4816900  8441300  16970400  4027300  3518900  1987700  9467400   \n",
       "\n",
       "  Volume.9  \n",
       "0      JCI  \n",
       "1      NaN  \n",
       "2  5291900  \n",
       "\n",
       "[3 rows x 61 columns]"
      ]
     },
     "execution_count": 6,
     "metadata": {},
     "output_type": "execute_result"
    }
   ],
   "source": [
    "prices_df = pd.read_csv(data_path) \n",
    "prices_df.head(3)"
   ]
  },
  {
   "cell_type": "code",
   "execution_count": 8,
   "id": "27b4ed90-b721-491d-9545-caac89d1655a",
   "metadata": {},
   "outputs": [
    {
     "data": {
      "text/html": [
       "<div>\n",
       "<style scoped>\n",
       "    .dataframe tbody tr th:only-of-type {\n",
       "        vertical-align: middle;\n",
       "    }\n",
       "\n",
       "    .dataframe tbody tr th {\n",
       "        vertical-align: top;\n",
       "    }\n",
       "\n",
       "    .dataframe thead tr th {\n",
       "        text-align: left;\n",
       "    }\n",
       "\n",
       "    .dataframe thead tr:last-of-type th {\n",
       "        text-align: right;\n",
       "    }\n",
       "</style>\n",
       "<table border=\"1\" class=\"dataframe\">\n",
       "  <thead>\n",
       "    <tr>\n",
       "      <th>Price</th>\n",
       "      <th colspan=\"10\" halign=\"left\">Adj Close</th>\n",
       "    </tr>\n",
       "    <tr>\n",
       "      <th>Ticker</th>\n",
       "      <th>APA</th>\n",
       "      <th>BA</th>\n",
       "      <th>BAX</th>\n",
       "      <th>BMY</th>\n",
       "      <th>CMCSA</th>\n",
       "      <th>CNP</th>\n",
       "      <th>CPB</th>\n",
       "      <th>DE</th>\n",
       "      <th>HPQ</th>\n",
       "      <th>JCI</th>\n",
       "    </tr>\n",
       "    <tr>\n",
       "      <th>Date</th>\n",
       "      <th></th>\n",
       "      <th></th>\n",
       "      <th></th>\n",
       "      <th></th>\n",
       "      <th></th>\n",
       "      <th></th>\n",
       "      <th></th>\n",
       "      <th></th>\n",
       "      <th></th>\n",
       "      <th></th>\n",
       "    </tr>\n",
       "  </thead>\n",
       "  <tbody>\n",
       "    <tr>\n",
       "      <th>2019-01-02</th>\n",
       "      <td>2280.0270%</td>\n",
       "      <td>31464.5142%</td>\n",
       "      <td>5784.4299%</td>\n",
       "      <td>4102.9873%</td>\n",
       "      <td>2911.1013%</td>\n",
       "      <td>2298.3324%</td>\n",
       "      <td>2580.0995%</td>\n",
       "      <td>13485.7559%</td>\n",
       "      <td>1658.5375%</td>\n",
       "      <td>2626.1444%</td>\n",
       "    </tr>\n",
       "    <tr>\n",
       "      <th>2019-01-03</th>\n",
       "      <td>2285.9146%</td>\n",
       "      <td>30210.0555%</td>\n",
       "      <td>5711.7931%</td>\n",
       "      <td>3558.7624%</td>\n",
       "      <td>2933.9705%</td>\n",
       "      <td>2311.4658%</td>\n",
       "      <td>2612.0907%</td>\n",
       "      <td>13116.9678%</td>\n",
       "      <td>1602.2612%</td>\n",
       "      <td>2583.9537%</td>\n",
       "    </tr>\n",
       "    <tr>\n",
       "      <th>2019-01-04</th>\n",
       "      <td>2381.7907%</td>\n",
       "      <td>31782.2571%</td>\n",
       "      <td>5890.7280%</td>\n",
       "      <td>3698.3673%</td>\n",
       "      <td>3033.0687%</td>\n",
       "      <td>2354.1492%</td>\n",
       "      <td>2626.4872%</td>\n",
       "      <td>13811.7432%</td>\n",
       "      <td>1665.7728%</td>\n",
       "      <td>2687.2774%</td>\n",
       "    </tr>\n",
       "  </tbody>\n",
       "</table>\n",
       "</div>"
      ],
      "text/plain": [
       "Price       Adj Close                                                          \\\n",
       "Ticker            APA          BA        BAX        BMY      CMCSA        CNP   \n",
       "Date                                                                            \n",
       "2019-01-02 2280.0270% 31464.5142% 5784.4299% 4102.9873% 2911.1013% 2298.3324%   \n",
       "2019-01-03 2285.9146% 30210.0555% 5711.7931% 3558.7624% 2933.9705% 2311.4658%   \n",
       "2019-01-04 2381.7907% 31782.2571% 5890.7280% 3698.3673% 3033.0687% 2354.1492%   \n",
       "\n",
       "Price                                                    \n",
       "Ticker            CPB          DE        HPQ        JCI  \n",
       "Date                                                     \n",
       "2019-01-02 2580.0995% 13485.7559% 1658.5375% 2626.1444%  \n",
       "2019-01-03 2612.0907% 13116.9678% 1602.2612% 2583.9537%  \n",
       "2019-01-04 2626.4872% 13811.7432% 1665.7728% 2687.2774%  "
      ]
     },
     "execution_count": 8,
     "metadata": {},
     "output_type": "execute_result"
    }
   ],
   "source": [
    "prices = prices.loc[:,('Adj Close', slice(None))]\n",
    "prices.head(3)"
   ]
  },
  {
   "cell_type": "markdown",
   "id": "10b13744-15a1-4a80-b453-322543807ebf",
   "metadata": {},
   "source": [
    "The returns are computed as the difference between the prices of two consecutive dates divided by the price in the first data"
   ]
  },
  {
   "cell_type": "code",
   "execution_count": 9,
   "id": "4772851c-17b2-47ee-b86c-48f405a7f62b",
   "metadata": {},
   "outputs": [],
   "source": [
    "prices.columns = assets \n",
    "# Calculating returns \n",
    "returns = prices[assets].pct_change().dropna()"
   ]
  },
  {
   "cell_type": "code",
   "execution_count": 11,
   "id": "1220f48c-95f2-48ef-bbb7-cce3cf4bc095",
   "metadata": {},
   "outputs": [
    {
     "data": {
      "text/html": [
       "<div>\n",
       "<style scoped>\n",
       "    .dataframe tbody tr th:only-of-type {\n",
       "        vertical-align: middle;\n",
       "    }\n",
       "\n",
       "    .dataframe tbody tr th {\n",
       "        vertical-align: top;\n",
       "    }\n",
       "\n",
       "    .dataframe thead th {\n",
       "        text-align: right;\n",
       "    }\n",
       "</style>\n",
       "<table border=\"1\" class=\"dataframe\">\n",
       "  <thead>\n",
       "    <tr style=\"text-align: right;\">\n",
       "      <th></th>\n",
       "      <th>APA</th>\n",
       "      <th>BA</th>\n",
       "      <th>BAX</th>\n",
       "      <th>BMY</th>\n",
       "      <th>CMCSA</th>\n",
       "      <th>CNP</th>\n",
       "      <th>CPB</th>\n",
       "      <th>DE</th>\n",
       "      <th>HPQ</th>\n",
       "      <th>JCI</th>\n",
       "    </tr>\n",
       "    <tr>\n",
       "      <th>Date</th>\n",
       "      <th></th>\n",
       "      <th></th>\n",
       "      <th></th>\n",
       "      <th></th>\n",
       "      <th></th>\n",
       "      <th></th>\n",
       "      <th></th>\n",
       "      <th></th>\n",
       "      <th></th>\n",
       "      <th></th>\n",
       "    </tr>\n",
       "  </thead>\n",
       "  <tbody>\n",
       "    <tr>\n",
       "      <th>2019-01-03</th>\n",
       "      <td>0.2582%</td>\n",
       "      <td>-3.9869%</td>\n",
       "      <td>-1.2557%</td>\n",
       "      <td>-13.2641%</td>\n",
       "      <td>0.7856%</td>\n",
       "      <td>0.5714%</td>\n",
       "      <td>1.2399%</td>\n",
       "      <td>-2.7346%</td>\n",
       "      <td>-3.3931%</td>\n",
       "      <td>-1.6066%</td>\n",
       "    </tr>\n",
       "    <tr>\n",
       "      <th>2019-01-04</th>\n",
       "      <td>4.1942%</td>\n",
       "      <td>5.2042%</td>\n",
       "      <td>3.1327%</td>\n",
       "      <td>3.9229%</td>\n",
       "      <td>3.3776%</td>\n",
       "      <td>1.8466%</td>\n",
       "      <td>0.5511%</td>\n",
       "      <td>5.2968%</td>\n",
       "      <td>3.9639%</td>\n",
       "      <td>3.9987%</td>\n",
       "    </tr>\n",
       "    <tr>\n",
       "      <th>2019-01-07</th>\n",
       "      <td>2.1540%</td>\n",
       "      <td>0.3149%</td>\n",
       "      <td>-0.4962%</td>\n",
       "      <td>3.2416%</td>\n",
       "      <td>-1.0612%</td>\n",
       "      <td>0.3835%</td>\n",
       "      <td>2.5883%</td>\n",
       "      <td>1.6350%</td>\n",
       "      <td>1.1100%</td>\n",
       "      <td>1.6341%</td>\n",
       "    </tr>\n",
       "  </tbody>\n",
       "</table>\n",
       "</div>"
      ],
      "text/plain": [
       "               APA       BA      BAX       BMY    CMCSA     CNP     CPB  \\\n",
       "Date                                                                      \n",
       "2019-01-03 0.2582% -3.9869% -1.2557% -13.2641%  0.7856% 0.5714% 1.2399%   \n",
       "2019-01-04 4.1942%  5.2042%  3.1327%   3.9229%  3.3776% 1.8466% 0.5511%   \n",
       "2019-01-07 2.1540%  0.3149% -0.4962%   3.2416% -1.0612% 0.3835% 2.5883%   \n",
       "\n",
       "                 DE      HPQ      JCI  \n",
       "Date                                   \n",
       "2019-01-03 -2.7346% -3.3931% -1.6066%  \n",
       "2019-01-04  5.2968%  3.9639%  3.9987%  \n",
       "2019-01-07  1.6350%  1.1100%  1.6341%  "
      ]
     },
     "execution_count": 11,
     "metadata": {},
     "output_type": "execute_result"
    }
   ],
   "source": [
    "returns.head(3)"
   ]
  },
  {
   "cell_type": "code",
   "execution_count": 12,
   "id": "5f19e73b-8a52-4273-8408-8cb0f68fe023",
   "metadata": {},
   "outputs": [
    {
     "data": {
      "text/plain": [
       "0.0025822517623526053"
      ]
     },
     "execution_count": 12,
     "metadata": {},
     "output_type": "execute_result"
    }
   ],
   "source": [
    "returns['APA'][0]"
   ]
  },
  {
   "cell_type": "code",
   "execution_count": 13,
   "id": "5457085c-d18d-4b34-b9fb-87b6581950fd",
   "metadata": {},
   "outputs": [
    {
     "data": {
      "text/plain": [
       "22.800270080566406"
      ]
     },
     "execution_count": 13,
     "metadata": {},
     "output_type": "execute_result"
    }
   ],
   "source": [
    "apa_price_0 = prices['APA'][0]\n",
    "apa_price_0"
   ]
  },
  {
   "cell_type": "code",
   "execution_count": 14,
   "id": "ad2eb22c-8bef-466b-b32c-7736ccae8662",
   "metadata": {},
   "outputs": [
    {
     "data": {
      "text/plain": [
       "22.859146118164062"
      ]
     },
     "execution_count": 14,
     "metadata": {},
     "output_type": "execute_result"
    }
   ],
   "source": [
    "apa_price_1 = prices['APA'][1]\n",
    "apa_price_1"
   ]
  },
  {
   "cell_type": "code",
   "execution_count": 15,
   "id": "e44eec1a-133d-43d7-9226-6ac712e42ecd",
   "metadata": {},
   "outputs": [
    {
     "data": {
      "text/plain": [
       "0.05887603759765625"
      ]
     },
     "execution_count": 15,
     "metadata": {},
     "output_type": "execute_result"
    }
   ],
   "source": [
    "apa_price_diff = apa_price_1 - apa_price_0\n",
    "apa_price_diff"
   ]
  },
  {
   "cell_type": "code",
   "execution_count": 20,
   "id": "35b4a325-6bba-40c4-b247-60e75e388092",
   "metadata": {},
   "outputs": [
    {
     "name": "stdout",
     "output_type": "stream",
     "text": [
      "APA return: 0.2582%\n"
     ]
    }
   ],
   "source": [
    "apa_return_1 = 100 * apa_price_diff / apa_price_0\n",
    "print('APA return: {:.4f}%'.format(apa_return_1))"
   ]
  },
  {
   "cell_type": "code",
   "execution_count": 7,
   "id": "9942914d-b828-41ef-aa39-bfdcf5d57f49",
   "metadata": {},
   "outputs": [
    {
     "data": {
      "text/plain": [
       "APA      0.1386%\n",
       "BA       0.0355%\n",
       "BAX     -0.0187%\n",
       "BMY      0.0217%\n",
       "CMCSA    0.0436%\n",
       "CNP      0.0345%\n",
       "CPB      0.0484%\n",
       "DE       0.1072%\n",
       "HPQ      0.0725%\n",
       "JCI      0.0776%\n",
       "dtype: float64"
      ]
     },
     "execution_count": 7,
     "metadata": {},
     "output_type": "execute_result"
    }
   ],
   "source": [
    "mu = returns.mean()\n",
    "mu"
   ]
  },
  {
   "cell_type": "code",
   "execution_count": 9,
   "id": "80c5cc2d-036e-40bf-ab71-6f1c1c76ed11",
   "metadata": {},
   "outputs": [
    {
     "data": {
      "text/plain": [
       "array([0.00202729, 0.00100807, 0.00032318, 0.00021005, 0.00030866,\n",
       "       0.00041104, 0.00024973, 0.00044535, 0.00058249, 0.00034382])"
      ]
     },
     "execution_count": 9,
     "metadata": {},
     "output_type": "execute_result"
    }
   ],
   "source": [
    "from scipy.stats import moment, kstat \n",
    "# Population Central Moments \n",
    "sigma_2_p = moment(returns, moment=2, axis=0) \n",
    "sigma_3_p = moment(returns, moment=3, axis=0) \n",
    "sigma_4_p = moment(returns, moment=4, axis=0) \n",
    "sigma_2_p"
   ]
  },
  {
   "cell_type": "code",
   "execution_count": 10,
   "id": "9ce980b9-d13c-43ad-9053-4fc2a6fb3029",
   "metadata": {},
   "outputs": [
    {
     "data": {
      "text/plain": [
       "array([0.0020289 , 0.00100887, 0.00032344, 0.00021021, 0.00030891,\n",
       "       0.00041137, 0.00024993, 0.0004457 , 0.00058296, 0.00034409])"
      ]
     },
     "execution_count": 10,
     "metadata": {},
     "output_type": "execute_result"
    }
   ],
   "source": [
    "# Sample Central Moments \n",
    "sigma_2_s = kstat(returns, n=2, axis=0) \n",
    "sigma_3_s = kstat(returns, n=3, axis=0) \n",
    "sigma_4_s = kstat(returns, n=4, axis=0)\n",
    "sigma_2_s"
   ]
  },
  {
   "cell_type": "code",
   "execution_count": 11,
   "id": "f855f1d6-e084-4f74-a18b-1bc1902e9d53",
   "metadata": {},
   "outputs": [
    {
     "data": {
      "text/plain": [
       "array([-1.05343034,  0.26818038, -1.02381667, -0.82039204,  0.03225533,\n",
       "       -0.75199279,  0.14957535, -0.32526147, -0.47342103, -0.64879155])"
      ]
     },
     "execution_count": 11,
     "metadata": {},
     "output_type": "execute_result"
    }
   ],
   "source": [
    "from scipy.stats import skew, kurtosis \n",
    "# Standarized Skewness and Kurtosis \n",
    "std_sigma_3 = skew(returns, axis=0) \n",
    "std_sigma_4 = kurtosis(returns, fisher=True, axis=0)\n",
    "std_sigma_3"
   ]
  },
  {
   "cell_type": "code",
   "execution_count": null,
   "id": "4b6e1ea0-ca44-4382-867d-bcf7d9b8ff87",
   "metadata": {},
   "outputs": [],
   "source": []
  }
 ],
 "metadata": {
  "kernelspec": {
   "display_name": "Python 3 (ipykernel)",
   "language": "python",
   "name": "python3"
  },
  "language_info": {
   "codemirror_mode": {
    "name": "ipython",
    "version": 3
   },
   "file_extension": ".py",
   "mimetype": "text/x-python",
   "name": "python",
   "nbconvert_exporter": "python",
   "pygments_lexer": "ipython3",
   "version": "3.12.5"
  }
 },
 "nbformat": 4,
 "nbformat_minor": 5
}
