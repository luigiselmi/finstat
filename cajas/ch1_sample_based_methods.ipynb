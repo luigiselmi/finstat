{
 "cells": [
  {
   "cell_type": "markdown",
   "id": "5576ff8b-d312-4bd9-85bc-b4a52547237b",
   "metadata": {},
   "source": [
    "# Chapter 1 - Sample Based Methods"
   ]
  },
  {
   "cell_type": "code",
   "execution_count": 1,
   "id": "e287d238-cf23-4492-a49b-85f8f4d2960d",
   "metadata": {},
   "outputs": [
    {
     "name": "stdout",
     "output_type": "stream",
     "text": [
      "YFinance version:  0.2.65\n"
     ]
    }
   ],
   "source": [
    "import numpy as np \n",
    "import pandas as pd \n",
    "import matplotlib.pyplot as plt \n",
    "import riskfolio as rp \n",
    "import yfinance as yf \n",
    "import warnings \n",
    "warnings.filterwarnings(\"ignore\") \n",
    "print('YFinance version: ', yf.version.version)"
   ]
  },
  {
   "cell_type": "code",
   "execution_count": 3,
   "id": "d5e3691f-07c4-467f-9910-ed526e489e40",
   "metadata": {},
   "outputs": [
    {
     "name": "stderr",
     "output_type": "stream",
     "text": [
      "[*********************100%***********************]  10 of 10 completed\n"
     ]
    }
   ],
   "source": [
    "pd.options.display.float_format = '{:.4%}'.format \n",
    "# Date range \n",
    "start = '2019-01-01' \n",
    "end = '2023-12-30' \n",
    "# Tickers of assets \n",
    "assets = ['APA', 'BA', 'BAX', 'BMY', 'CMCSA', 'CNP', 'CPB', 'DE', 'HPQ', 'JCI'] \n",
    "assets.sort() \n",
    "# Downloading data \n",
    "prices = yf.download(assets, start=start, end=end, auto_adjust= False) \n",
    "prices = prices.loc[:,('Adj Close', slice(None))]"
   ]
  },
  {
   "cell_type": "code",
   "execution_count": 4,
   "id": "4772851c-17b2-47ee-b86c-48f405a7f62b",
   "metadata": {},
   "outputs": [],
   "source": [
    "prices.columns = assets \n",
    "# Calculating returns \n",
    "returns = prices[assets].pct_change().dropna()"
   ]
  },
  {
   "cell_type": "code",
   "execution_count": 5,
   "id": "1220f48c-95f2-48ef-bbb7-cce3cf4bc095",
   "metadata": {},
   "outputs": [
    {
     "data": {
      "text/plain": [
       "pandas.core.frame.DataFrame"
      ]
     },
     "execution_count": 5,
     "metadata": {},
     "output_type": "execute_result"
    }
   ],
   "source": [
    "type(prices)"
   ]
  },
  {
   "cell_type": "code",
   "execution_count": null,
   "id": "9942914d-b828-41ef-aa39-bfdcf5d57f49",
   "metadata": {},
   "outputs": [],
   "source": []
  }
 ],
 "metadata": {
  "kernelspec": {
   "display_name": "Python 3 (ipykernel)",
   "language": "python",
   "name": "python3"
  },
  "language_info": {
   "codemirror_mode": {
    "name": "ipython",
    "version": 3
   },
   "file_extension": ".py",
   "mimetype": "text/x-python",
   "name": "python",
   "nbconvert_exporter": "python",
   "pygments_lexer": "ipython3",
   "version": "3.12.5"
  }
 },
 "nbformat": 4,
 "nbformat_minor": 5
}
