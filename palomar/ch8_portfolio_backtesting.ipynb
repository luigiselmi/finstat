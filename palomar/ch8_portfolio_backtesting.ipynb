{
 "cells": [
  {
   "cell_type": "markdown",
   "id": "853bc933-1634-445e-a276-85bfbdf69030",
   "metadata": {},
   "source": [
    "# Chapter 8: Portfolio Backtesting\n",
    "Backtesting is a technique to build and fit a portfolio. Like in machine learning we want to minimize an objective function, e.g.:\n",
    "\n",
    "$$ℒ = w^T \\mu - \\frac{\\lambda}{2} w^T \\Sigma w$$\n",
    "\n",
    "subject to some constraints, e.g.:\n",
    "\n",
    "$$1^T w = 1, w \\ge 0$$"
   ]
  },
  {
   "cell_type": "code",
   "execution_count": null,
   "id": "02cf19fa-fb1d-474d-9d6c-392d804c4859",
   "metadata": {},
   "outputs": [],
   "source": []
  }
 ],
 "metadata": {
  "kernelspec": {
   "display_name": "Python 3 (ipykernel)",
   "language": "python",
   "name": "python3"
  },
  "language_info": {
   "codemirror_mode": {
    "name": "ipython",
    "version": 3
   },
   "file_extension": ".py",
   "mimetype": "text/x-python",
   "name": "python",
   "nbconvert_exporter": "python",
   "pygments_lexer": "ipython3",
   "version": "3.12.5"
  }
 },
 "nbformat": 4,
 "nbformat_minor": 5
}
